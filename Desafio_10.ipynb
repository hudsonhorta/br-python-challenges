{
  "nbformat": 4,
  "nbformat_minor": 0,
  "metadata": {
    "anaconda-cloud": {},
    "colab": {
      "name": "Desafio 10.ipynb",
      "provenance": [],
      "include_colab_link": true
    },
    "kernelspec": {
      "display_name": "Python 3",
      "language": "python",
      "name": "python3"
    },
    "language_info": {
      "codemirror_mode": {
        "name": "ipython",
        "version": 3
      },
      "file_extension": ".py",
      "mimetype": "text/x-python",
      "name": "python",
      "nbconvert_exporter": "python",
      "pygments_lexer": "ipython3",
      "version": "3.7.9"
    }
  },
  "cells": [
    {
      "cell_type": "markdown",
      "metadata": {
        "id": "view-in-github",
        "colab_type": "text"
      },
      "source": [
        "<a href=\"https://colab.research.google.com/github/hudsonhorta/br-python-challenges/blob/master/Desafio_10.ipynb\" target=\"_parent\"><img src=\"https://colab.research.google.com/assets/colab-badge.svg\" alt=\"Open In Colab\"/></a>"
      ]
    },
    {
      "cell_type": "markdown",
      "metadata": {
        "id": "a4-FLDRof6Jv"
      },
      "source": [
        "### Desafio 10\n",
        "\n",
        "Dada uma lista, divida-a em 3 partes iguais e reverta a ordem de cada lista.\n",
        "\n",
        "**Exemplo:** \n",
        "\n",
        "Entrada: \\\n",
        "sampleList = [11, 45, 8, 23, 14, 12, 78, 45, 89]\n",
        "\n",
        "Saída: \\\n",
        "Parte 1 [8, 45, 11] \\\n",
        "Parte 2 [12, 14, 23] \\\n",
        "Parte 3 [89, 45, 78] "
      ]
    },
    {
      "cell_type": "code",
      "metadata": {
        "colab": {
          "base_uri": "https://localhost:8080/"
        },
        "id": "IJ70pUjnf6Jw",
        "outputId": "6eaf7c90-3d18-4d06-e2fa-99865176798b"
      },
      "source": [
        "# lista informada\n",
        "lista = [11, 45, 8, 23, 14, 12, 78, 45, 89]\n",
        "\n",
        "partes = 3 #quantidade de partes que será divida a lista\n",
        "splited = [] #lista de apoio para receber a divisão da lista\n",
        "tam_lista = len(lista) #tamanho da lista original\n",
        "\n",
        "# laco para as divisões de acordo com a quantidade de partes\n",
        "for i in range(partes):\n",
        "    start = int(i*tam_lista/partes) # calculo para o inicio\n",
        "    end = int((i+1)*tam_lista/partes) # calculo para o final\n",
        "    # adiciona para da lista original de acordo com o inicio e o final\n",
        "    splited.append(lista[start:end]) \n",
        "\n",
        "# cria as novas três listas a partir das lisas criadas em splited\n",
        "# já invertendo a ordem dos itens\n",
        "lista1 = splited[0][::-1]\n",
        "lista2 = splited[1][::-1]\n",
        "lista3 = splited[2][::-1]\n",
        "\n",
        "# imprime as novas listas\n",
        "print(lista1)\n",
        "print(lista2)\n",
        "print(lista3)"
      ],
      "execution_count": 34,
      "outputs": [
        {
          "output_type": "stream",
          "text": [
            "[8, 45, 11]\n",
            "[12, 14, 23]\n",
            "[89, 45, 78]\n"
          ],
          "name": "stdout"
        }
      ]
    }
  ]
}