{
  "nbformat": 4,
  "nbformat_minor": 0,
  "metadata": {
    "anaconda-cloud": {},
    "colab": {
      "name": "Desafio 12.ipynb",
      "provenance": [],
      "include_colab_link": true
    },
    "kernelspec": {
      "display_name": "Python 3",
      "language": "python",
      "name": "python3"
    },
    "language_info": {
      "codemirror_mode": {
        "name": "ipython",
        "version": 3
      },
      "file_extension": ".py",
      "mimetype": "text/x-python",
      "name": "python",
      "nbconvert_exporter": "python",
      "pygments_lexer": "ipython3",
      "version": "3.7.9"
    }
  },
  "cells": [
    {
      "cell_type": "markdown",
      "metadata": {
        "id": "view-in-github",
        "colab_type": "text"
      },
      "source": [
        "<a href=\"https://colab.research.google.com/github/hudsonhorta/br-python-challenges/blob/master/Desafio_12.ipynb\" target=\"_parent\"><img src=\"https://colab.research.google.com/assets/colab-badge.svg\" alt=\"Open In Colab\"/></a>"
      ]
    },
    {
      "cell_type": "markdown",
      "metadata": {
        "id": "AYHY2YXQf6J2"
      },
      "source": [
        "### Desafio 12\n",
        "\n",
        "Escreva uma função em Python para verificar a validade de uma senha.\n",
        "\n",
        "A senha deve ter:\n",
        "\n",
        "* Pelo menos 1 letra entre [a-z] e 1 letra entre [A-Z].\n",
        "* Pelo menos 1 número entre [0-9].\n",
        "* Pelo menos 1 caractere de [$ # @].\n",
        "* Comprimento mínimo de 6 caracteres.\n",
        "* Comprimento máximo de 16 caracteres.\n",
        "\n",
        "Entradas: \"12345678\", \"J3sus0\", \"#Te5t300\", \"J*90j12374\", \"Michheeul\", \"Monk3y6\"\n",
        "\n",
        "A saída deve ser a senha e um texto indicando se a senha é válida ou inválida:\n",
        "\n",
        "```\n",
        "\"1234\" - Senha inválida\n",
        "\"Qw#1234\" - Senha válida\n",
        "```"
      ]
    },
    {
      "cell_type": "code",
      "metadata": {
        "colab": {
          "base_uri": "https://localhost:8080/"
        },
        "id": "UGgtGYGGf6J3",
        "outputId": "0597520c-11af-4776-ecdb-5bddea5ccbb2"
      },
      "source": [
        "#criacao da função para uso de validação da senha\n",
        "def valida_senha(senha):\n",
        "  valida = True\n",
        "  mensagem = ''\n",
        "\n",
        "  #verifica tamanho minimo\n",
        "  if len(senha) < 6:\n",
        "    valida = False\n",
        "    mensagem = mensagem + 'Comprimento mínimo de 6 caracteres. '\n",
        "\n",
        "  #verifica tamanho máximo\n",
        "  if len(senha) > 16:\n",
        "    valida = False\n",
        "    mensagem = mensagem + 'Comprimento máximo de 16 caracteres. '\n",
        "\n",
        "  # Verifica se a string possui um número usando a função any junto com str.isdigit\n",
        "  if any(chr.isdigit() for chr in senha) == False:\n",
        "    valida = False\n",
        "    mensagem = mensagem + 'Pelo menos 1 número entre [0-9]. '\n",
        "\n",
        "  # importa o modulo [re] para uso de expressões regulares\n",
        "  import re\n",
        "\n",
        "  # verificar se o tamanho da pesquisa de A-Z é menor que a quantidade minima permitida\n",
        "  if len(re.findall(r\"[A-Z]\", senha)) < 1:\n",
        "    valida = False\n",
        "    mensagem = mensagem + 'Pelo menos 1 letra entre [A-Z]. '\n",
        "\n",
        "  # verificar se o tamanho da pesquisa de a-z é menor que a quantidade minima permitida\n",
        "  if len(re.findall(r\"[a-z]\", senha)) < 1:\n",
        "    valida = False\n",
        "    mensagem = mensagem + 'Pelo menos 1 letra entre [a-z]. '\n",
        "\n",
        "  # verificar se o tamanho da pesquisa de $#@ é menor que a quantidade minima permitida\n",
        "  if len(re.findall(r\"[$#@]\", senha)) < 1:\n",
        "    valida = False\n",
        "    mensagem = mensagem + 'Pelo menos 1 caractere de [$ # @]. '\n",
        "\n",
        "  if valida == True:\n",
        "    print(f'\"{senha}\" - SENHA VÁLIDA')\n",
        "  else:\n",
        "    print(f'\"{senha}\" - Senha Inválida - {mensagem}')\n",
        "\n",
        "# Uso da função com as entradas solicitadas\n",
        "valida_senha(\"12345678\")\n",
        "valida_senha(\"J3sus0\")\n",
        "valida_senha(\"#Te5t300\")\n",
        "valida_senha(\"J*90j12374\")\n",
        "valida_senha(\"Michheeul\")\n",
        "valida_senha(\"Monk3y6\")\n"
      ],
      "execution_count": 18,
      "outputs": [
        {
          "output_type": "stream",
          "text": [
            "\"12345678\" - Senha Inválida - Pelo menos 1 letra entre [A-Z]. Pelo menos 1 letra entre [a-z]. Pelo menos 1 caractere de [$ # @]. \n",
            "\"J3sus0\" - Senha Inválida - Pelo menos 1 caractere de [$ # @]. \n",
            "\"#Te5t300\" - SENHA VÁLIDA\n",
            "\"J*90j12374\" - Senha Inválida - Pelo menos 1 caractere de [$ # @]. \n",
            "\"Michheeul\" - Senha Inválida - Pelo menos 1 número entre [0-9]. Pelo menos 1 caractere de [$ # @]. \n",
            "\"Monk3y6\" - Senha Inválida - Pelo menos 1 caractere de [$ # @]. \n"
          ],
          "name": "stdout"
        }
      ]
    },
    {
      "cell_type": "code",
      "metadata": {
        "id": "vkIhLuonSEU9"
      },
      "source": [
        ""
      ],
      "execution_count": 10,
      "outputs": []
    }
  ]
}