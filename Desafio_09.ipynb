{
  "nbformat": 4,
  "nbformat_minor": 0,
  "metadata": {
    "anaconda-cloud": {},
    "colab": {
      "name": "Desafio 9.ipynb",
      "provenance": [],
      "include_colab_link": true
    },
    "kernelspec": {
      "display_name": "Python 3",
      "language": "python",
      "name": "python3"
    },
    "language_info": {
      "codemirror_mode": {
        "name": "ipython",
        "version": 3
      },
      "file_extension": ".py",
      "mimetype": "text/x-python",
      "name": "python",
      "nbconvert_exporter": "python",
      "pygments_lexer": "ipython3",
      "version": "3.7.9"
    }
  },
  "cells": [
    {
      "cell_type": "markdown",
      "metadata": {
        "id": "view-in-github",
        "colab_type": "text"
      },
      "source": [
        "<a href=\"https://colab.research.google.com/github/hudsonhorta/br-python-challenges/blob/master/Desafio_09.ipynb\" target=\"_parent\"><img src=\"https://colab.research.google.com/assets/colab-badge.svg\" alt=\"Open In Colab\"/></a>"
      ]
    },
    {
      "cell_type": "markdown",
      "metadata": {
        "id": "HpvTpUBGf6Jr"
      },
      "source": [
        "\n",
        "\n",
        "### Desafio 9\n",
        "\n",
        "Escreva uma função que retorne a soma dos múltiplos de 3 e 5 entre 0 e um número limite, que vai ser utilizado como parâmetro. \\\n",
        "Por exemplo, se o limite for 20, ele retornará a soma de 3, 5, 6, 9, 10, 12, 15, 18, 20."
      ]
    },
    {
      "cell_type": "code",
      "metadata": {
        "colab": {
          "base_uri": "https://localhost:8080/"
        },
        "id": "195C6bw-f6Js",
        "outputId": "70846654-c05d-40f7-e484-e33b0d5a74d8"
      },
      "source": [
        "# função para verificar se o número é múltiplo da base informada\n",
        "# caso o módulo da divisão seja zero, o número é múltiplo e a \n",
        "# função retorna o mesmo, caso contrário, retorna zero.\n",
        "def verifica_multiplo(num, base):\n",
        "  if num % base == 0:\n",
        "    return num\n",
        "  else:\n",
        "    return 0\n",
        "\n",
        "# solicita a entrada do número limite para o calculo\n",
        "limite = input('Informe o número limite para o calculo: ')\n",
        "\n",
        "# variavel da soma\n",
        "soma = 0\n",
        "\n",
        "# loop de 0 até o limite+1 para pegar todos os números\n",
        "for n in range(int(limite)+1):\n",
        "  soma = soma + verifica_multiplo(n,3)\n",
        "  soma = soma + verifica_multiplo(n,5)\n",
        "\n",
        "# apresenta resultado\n",
        "print(f'A soma de todos os múltiplos de 3 e 5 dentro do limite informado é de: {soma}')\n"
      ],
      "execution_count": 15,
      "outputs": [
        {
          "output_type": "stream",
          "text": [
            "Informe o número limite para o calculo: 89\n",
            "A soma de todos os múltiplos de 3 e 5 dentro do limite informado é de: 2070\n"
          ],
          "name": "stdout"
        }
      ]
    },
    {
      "cell_type": "code",
      "metadata": {
        "id": "sSq7HnDdKfz7"
      },
      "source": [
        ""
      ],
      "execution_count": null,
      "outputs": []
    }
  ]
}