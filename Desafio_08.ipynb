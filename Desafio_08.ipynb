{
  "nbformat": 4,
  "nbformat_minor": 0,
  "metadata": {
    "anaconda-cloud": {},
    "colab": {
      "name": "Desafio 8.ipynb",
      "provenance": [],
      "include_colab_link": true
    },
    "kernelspec": {
      "display_name": "Python 3",
      "language": "python",
      "name": "python3"
    },
    "language_info": {
      "codemirror_mode": {
        "name": "ipython",
        "version": 3
      },
      "file_extension": ".py",
      "mimetype": "text/x-python",
      "name": "python",
      "nbconvert_exporter": "python",
      "pygments_lexer": "ipython3",
      "version": "3.7.9"
    }
  },
  "cells": [
    {
      "cell_type": "markdown",
      "metadata": {
        "id": "view-in-github",
        "colab_type": "text"
      },
      "source": [
        "<a href=\"https://colab.research.google.com/github/hudsonhorta/br-python-challenges/blob/master/Desafio_08.ipynb\" target=\"_parent\"><img src=\"https://colab.research.google.com/assets/colab-badge.svg\" alt=\"Open In Colab\"/></a>"
      ]
    },
    {
      "cell_type": "markdown",
      "metadata": {
        "id": "o3tkeMDNf6Jo"
      },
      "source": [
        "### Desafio 8\n",
        "\n",
        "Escreva um script Python para encontrar as 10 palavras mais longas em um arquivo de texto.\n",
        "O arquivo .txt está localizado na mesma pasta do projeto (**texto.txt**)."
      ]
    },
    {
      "cell_type": "code",
      "metadata": {
        "id": "EknxjSG0f6Jo"
      },
      "source": [
        "# Seu código"
      ],
      "execution_count": null,
      "outputs": []
    },
    {
      "cell_type": "code",
      "metadata": {
        "colab": {
          "base_uri": "https://localhost:8080/"
        },
        "id": "ZYbqEWBG5nKx",
        "outputId": "2c4605b6-6459-4cf3-d1b5-f0680d5253f5"
      },
      "source": [
        "arq = 'ciencia_dados.txt'\n",
        "arquivo = open(arq)\n",
        "lista = []\n",
        "tam = []\n",
        "for line in arquivo:\n",
        "       for n in line.split(' '):\n",
        "           lista.append(n)\n",
        "           tam.append(len(n))\n",
        "\n",
        "b = dict(zip(lista, tam))\n",
        "\n",
        "from operator import itemgetter\n",
        "\n",
        "limit = 10\n",
        "linha = 1\n",
        "\n",
        "for x in sorted(b.items(), key=itemgetter(1), reverse=True):\n",
        "  print(x)\n",
        "  linha = linha + 1\n",
        "  if linha > limit:\n",
        "      break\n"
      ],
      "execution_count": 86,
      "outputs": [
        {
          "output_type": "stream",
          "text": [
            "('interdisciplinares.', 19)\n",
            "('não-estruturados,', 17)\n",
            "('interdisciplinar', 16)\n",
            "('desenvolvimento', 15)\n",
            "('conhecimento,', 13)\n",
            "('popularização', 13)\n",
            "('transformando', 13)\n",
            "('pesquisadores', 13)\n",
            "('quantitativos', 13)\n",
            "('estruturados', 12)\n"
          ],
          "name": "stdout"
        }
      ]
    },
    {
      "cell_type": "code",
      "metadata": {
        "id": "HSGyMfDXnweH"
      },
      "source": [
        ""
      ],
      "execution_count": null,
      "outputs": []
    }
  ]
}