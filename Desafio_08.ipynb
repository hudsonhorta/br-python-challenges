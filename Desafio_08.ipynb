{
  "nbformat": 4,
  "nbformat_minor": 0,
  "metadata": {
    "anaconda-cloud": {},
    "colab": {
      "name": "Desafio 8.ipynb",
      "provenance": [],
      "toc_visible": true,
      "include_colab_link": true
    },
    "kernelspec": {
      "display_name": "Python 3",
      "language": "python",
      "name": "python3"
    },
    "language_info": {
      "codemirror_mode": {
        "name": "ipython",
        "version": 3
      },
      "file_extension": ".py",
      "mimetype": "text/x-python",
      "name": "python",
      "nbconvert_exporter": "python",
      "pygments_lexer": "ipython3",
      "version": "3.7.9"
    }
  },
  "cells": [
    {
      "cell_type": "markdown",
      "metadata": {
        "id": "view-in-github",
        "colab_type": "text"
      },
      "source": [
        "<a href=\"https://colab.research.google.com/github/hudsonhorta/br-python-challenges/blob/master/Desafio_08.ipynb\" target=\"_parent\"><img src=\"https://colab.research.google.com/assets/colab-badge.svg\" alt=\"Open In Colab\"/></a>"
      ]
    },
    {
      "cell_type": "markdown",
      "metadata": {
        "id": "o3tkeMDNf6Jo"
      },
      "source": [
        "### Desafio 8\n",
        "\n",
        "Escreva um script Python para encontrar as 10 palavras mais longas em um arquivo de texto.\n",
        "O arquivo .txt está localizado na mesma pasta do projeto (**texto.txt**)."
      ]
    },
    {
      "cell_type": "code",
      "metadata": {
        "colab": {
          "base_uri": "https://localhost:8080/"
        },
        "id": "ZYbqEWBG5nKx",
        "outputId": "bd37bbc5-8e4a-4619-ed50-cbfeda70e9bc"
      },
      "source": [
        "# faz a leitura do arquivo texto.txt\n",
        "# cria duas listas, uma para armazenar as palavras e outra para armazenar\n",
        "# o tamanho das mesmas\n",
        "\n",
        "arq = 'texto.txt'\n",
        "arquivo = open(arq)\n",
        "\n",
        "# função para remover caracteres a ser usada para retirar as\n",
        "# pontuações das palavras\n",
        "def remove_caracter(palavra, remover):\n",
        "    nova_palavra = palavra\n",
        "    for x in remover:\n",
        "        nova_palavra = nova_palavra.replace(x, '')\n",
        "    return nova_palavra\n",
        "\n",
        "# criacação das listas de apoio\n",
        "lista = [] #lista para as palavras\n",
        "tam = [] #lista com os tamanhos das palavras\n",
        "\n",
        "# loop para ler o conteudo do arquivo, fazendo um split com os espaços\n",
        "# em branco para separar as palavras\n",
        "for line in arquivo:\n",
        "       for n in line.split(' '):\n",
        "           nv = remove_caracter(n,'():,;.')\n",
        "           lista.append(nv) #adiciona a palavra na lista de palavras\n",
        "           tam.append(len(nv)) #adiciona o tamanho na lista dos tamanhos\n",
        "\n",
        "# cria um dicionario a partir da junção das duas listas\n",
        "# através da função zip\n",
        "conteudo = dict(zip(lista, tam))\n",
        "\n",
        "#importa itemgetter para usar na ordenação pelo item e não pelo indice\n",
        "from operator import itemgetter\n",
        "\n",
        "# cria um dicionario a partir da ordenação do item quantidade\n",
        "# em ordem decrescente\n",
        "ordenado = sorted(conteudo.items(), key=itemgetter(1), reverse=True)\n",
        "\n",
        "#faz um loop para apresentar as 10 maiores palavras\n",
        "for x in range(10):\n",
        "  print(f\"{x+1}º Lugar - Palavra '{ordenado[x][0]}' - Tamanho: {ordenado[x][1]}\")\n",
        "\n",
        "\n"
      ],
      "execution_count": 1,
      "outputs": [
        {
          "output_type": "stream",
          "text": [
            "1º Lugar - Palavra 'general-purpose' - Tamanho: 15\n",
            "2º Lugar - Palavra 'object-oriented' - Tamanho: 15\n",
            "3º Lugar - Palavra 'comprehensive' - Tamanho: 13\n",
            "4º Lugar - Palavra 'intermediate' - Tamanho: 12\n",
            "5º Lugar - Palavra 'interpreted' - Tamanho: 11\n",
            "6º Lugar - Palavra 'programming' - Tamanho: 11\n",
            "7º Lugar - Palavra 'languageIts' - Tamanho: 11\n",
            "8º Lugar - Palavra 'readability' - Tamanho: 11\n",
            "9º Lugar - Palavra 'programmers' - Tamanho: 11\n",
            "10º Lugar - Palavra 'high-level' - Tamanho: 10\n"
          ],
          "name": "stdout"
        }
      ]
    },
    {
      "cell_type": "code",
      "metadata": {
        "id": "bmnYYBrSF7ta"
      },
      "source": [
        ""
      ],
      "execution_count": null,
      "outputs": []
    }
  ]
}