{
  "nbformat": 4,
  "nbformat_minor": 0,
  "metadata": {
    "anaconda-cloud": {},
    "colab": {
      "name": "Desafio 11.ipynb",
      "provenance": [],
      "include_colab_link": true
    },
    "kernelspec": {
      "display_name": "Python 3",
      "language": "python",
      "name": "python3"
    },
    "language_info": {
      "codemirror_mode": {
        "name": "ipython",
        "version": 3
      },
      "file_extension": ".py",
      "mimetype": "text/x-python",
      "name": "python",
      "nbconvert_exporter": "python",
      "pygments_lexer": "ipython3",
      "version": "3.7.9"
    }
  },
  "cells": [
    {
      "cell_type": "markdown",
      "metadata": {
        "id": "view-in-github",
        "colab_type": "text"
      },
      "source": [
        "<a href=\"https://colab.research.google.com/github/hudsonhorta/br-python-challenges/blob/master/Desafio_11.ipynb\" target=\"_parent\"><img src=\"https://colab.research.google.com/assets/colab-badge.svg\" alt=\"Open In Colab\"/></a>"
      ]
    },
    {
      "cell_type": "markdown",
      "metadata": {
        "id": "y1R0m4oWf6Jz"
      },
      "source": [
        "### Desafio 8\n",
        "Dados uma sequência com `n` números inteiros, determinar quantos números da sequência são pares e quantos são ímpares.\\\n",
        "Por exemplo, para a sequência\n",
        "\n",
        "`6   2   7  -5   8  -4`\n",
        "\n",
        "a sua função deve retornar o número 4 para o número de pares e 2 para o de ímpares.\\\n",
        "A saída deve ser um **tupla** contendo primeiramente o número de pares e em seguida o número de ímpares.\\\n",
        "Para o exemplo anterior, a saída seria `(4, 2)`."
      ]
    },
    {
      "cell_type": "code",
      "metadata": {
        "colab": {
          "base_uri": "https://localhost:8080/"
        },
        "id": "pSIzX4zUf6Jz",
        "outputId": "b744f0a7-e491-4a29-8cdd-41016e09b8fa"
      },
      "source": [
        "#criacao da função para contagem\n",
        "def contar_pares_impares(entrada):\n",
        "  #cria uma lista separada a entrada por espaço em branco\n",
        "  num = entrada.split()\n",
        "  \n",
        "  # variaveis para armazena a soma dos pares e impares\n",
        "  par=0\n",
        "  impar=0\n",
        "  \n",
        "  #laco na lista\n",
        "  for n in num:\n",
        "    # verificação se é par ou impar\n",
        "    if int(n) % 2 == 0:\n",
        "      par = par + 1\n",
        "    else:\n",
        "      impar = impar + 1\n",
        "  \n",
        "  #criação da tupla com o resultado\n",
        "  t = (par, impar)\n",
        "  \n",
        "  return  t\n",
        "\n",
        "#uso da fução\n",
        "tup = contar_pares_impares('6 2 7 -5 8 -4 6 22 98 -123 -453')\n",
        "\n",
        "print(f'Tipo de dados: {type(tup)}')\n",
        "print(f'Conteúdo da tupla: {tup}')"
      ],
      "execution_count": 35,
      "outputs": [
        {
          "output_type": "stream",
          "text": [
            "Tipo de dados: <class 'tuple'>\n",
            "Conteúdo da tupla: (7, 4)\n"
          ],
          "name": "stdout"
        }
      ]
    },
    {
      "cell_type": "code",
      "metadata": {
        "id": "pk-_gzOI_KzE"
      },
      "source": [
        ""
      ],
      "execution_count": null,
      "outputs": []
    }
  ]
}