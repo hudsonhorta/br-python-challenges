{
  "nbformat": 4,
  "nbformat_minor": 0,
  "metadata": {
    "anaconda-cloud": {},
    "colab": {
      "name": "Desafio 1.ipynb",
      "provenance": [],
      "include_colab_link": true
    },
    "kernelspec": {
      "display_name": "Python 3",
      "language": "python",
      "name": "python3"
    },
    "language_info": {
      "codemirror_mode": {
        "name": "ipython",
        "version": 3
      },
      "file_extension": ".py",
      "mimetype": "text/x-python",
      "name": "python",
      "nbconvert_exporter": "python",
      "pygments_lexer": "ipython3",
      "version": "3.7.9"
    }
  },
  "cells": [
    {
      "cell_type": "markdown",
      "metadata": {
        "id": "view-in-github",
        "colab_type": "text"
      },
      "source": [
        "<a href=\"https://colab.research.google.com/github/hudsonhorta/br-python-challenges/blob/master/Desafio_01.ipynb\" target=\"_parent\"><img src=\"https://colab.research.google.com/assets/colab-badge.svg\" alt=\"Open In Colab\"/></a>"
      ]
    },
    {
      "cell_type": "markdown",
      "metadata": {
        "id": "SbLLE9q1eldC"
      },
      "source": [
        "### Desafio 1\n",
        "\n",
        "Escreva um programa em Python para contabilizar a quantidade de ocorrências de cada palavra."
      ]
    },
    {
      "cell_type": "code",
      "metadata": {
        "id": "WhtbdwFseldD"
      },
      "source": [
        "palavras = [\n",
        "   'red', 'green', 'black', 'pink', 'black', 'white', 'black', 'eyes',\n",
        "   'white', 'black', 'orange', 'pink', 'pink', 'red', 'red', 'white', 'orange',\n",
        "   'white', \"black\", 'pink', 'green', 'green', 'pink', 'green', 'pink',\n",
        "   'white', 'orange', \"orange\", 'red'\n",
        "]\n",
        "\n",
        "\n",
        "# Seu código"
      ],
      "execution_count": null,
      "outputs": []
    },
    {
      "cell_type": "code",
      "metadata": {
        "colab": {
          "base_uri": "https://localhost:8080/"
        },
        "id": "M58o1U9KfAxa",
        "outputId": "a0d38459-1dfe-4154-9396-c56fc48a4626"
      },
      "source": [
        "# Etapa 1 = Crio uma nova lista a partir da lista original 'palavras'\n",
        "#           convertendo a lista 'palavras' em um dicionário e em seguida\n",
        "#           converto o dicionário para uma nova lista, como o dicionário\n",
        "#           trabalha com chaves únicas, ele automaticamente irá excluir\n",
        "#           os itens repetidos\n",
        "\n",
        "lista_unica = list(dict.fromkeys(palavras))\n",
        "\n",
        "# Etapa 2 - Faço um loop com os itens da lista 'lista_unica' para ler\n",
        "#           a quantidade de itens de cada palavra dentro da lista 'palavras'\n",
        "\n",
        "print(\"Quantidade de ocorrências de cada palavra:\")\n",
        "\n",
        "for l in lista_unica:\n",
        "  if palavras.count(l) > 1:\n",
        "    print(f\"A palavra {l} foi encontrada\", palavras.count(l), \"vezes\")\n",
        "  else:\n",
        "    print(f\"A palavra {l} foi encontrada\", palavras.count(l), \"vez\")\n",
        "\n"
      ],
      "execution_count": 15,
      "outputs": [
        {
          "output_type": "stream",
          "text": [
            "Quantidade de ocorrências de cada palavra:\n",
            "A palavra red foi encontrada 4 vezes\n",
            "A palavra green foi encontrada 4 vezes\n",
            "A palavra black foi encontrada 5 vezes\n",
            "A palavra pink foi encontrada 6 vezes\n",
            "A palavra white foi encontrada 5 vezes\n",
            "A palavra eyes foi encontrada 1 vez\n",
            "A palavra orange foi encontrada 4 vezes\n"
          ],
          "name": "stdout"
        }
      ]
    },
    {
      "cell_type": "code",
      "metadata": {
        "id": "JAhbwOeDhUkW"
      },
      "source": [
        ""
      ],
      "execution_count": 15,
      "outputs": []
    }
  ]
}